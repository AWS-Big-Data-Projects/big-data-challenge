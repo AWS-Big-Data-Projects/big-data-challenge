{
  "nbformat": 4,
  "nbformat_minor": 0,
  "metadata": {
    "colab": {
      "name": "watchReviews.ipynb",
      "provenance": [],
      "collapsed_sections": [],
      "authorship_tag": "ABX9TyNZeo40yA1azrDpfBBR655b",
      "include_colab_link": true
    },
    "kernelspec": {
      "name": "python3",
      "display_name": "Python 3"
    },
    "language_info": {
      "name": "python"
    }
  },
  "cells": [
    {
      "cell_type": "markdown",
      "metadata": {
        "id": "view-in-github",
        "colab_type": "text"
      },
      "source": [
        "<a href=\"https://colab.research.google.com/github/ClaytonsCreations/AWS_BigData/blob/main/watchReviews.ipynb\" target=\"_parent\"><img src=\"https://colab.research.google.com/assets/colab-badge.svg\" alt=\"Open In Colab\"/></a>"
      ]
    },
    {
      "cell_type": "code",
      "source": [
        "import os\n",
        "# Find the latest version of spark 3.0  from http://www.apache.org/dist/spark/ and enter as the spark version\n",
        "# For example:\n",
        "# spark_version = 'spark-3.0.3'\n",
        "spark_version = 'spark-3.2.1'\n",
        "os.environ['SPARK_VERSION']=spark_version\n",
        "\n",
        "# Install Spark and Java\n",
        "!apt-get update\n",
        "!apt-get install openjdk-8-jdk-headless -qq > /dev/null\n",
        "!wget -q http://www.apache.org/dist/spark/$SPARK_VERSION/$SPARK_VERSION-bin-hadoop2.7.tgz\n",
        "!tar xf $SPARK_VERSION-bin-hadoop2.7.tgz\n",
        "!pip install -q findspark\n",
        "\n",
        "# Set Environment Variables\n",
        "os.environ[\"JAVA_HOME\"] = \"/usr/lib/jvm/java-8-openjdk-amd64\"\n",
        "os.environ[\"SPARK_HOME\"] = f\"/content/{spark_version}-bin-hadoop2.7\"\n",
        "\n",
        "# Start a SparkSession\n",
        "import findspark\n",
        "findspark.init()"
      ],
      "metadata": {
        "id": "AwknHnjj6X4T",
        "colab": {
          "base_uri": "https://localhost:8080/"
        },
        "outputId": "4baea672-dcad-4076-ae62-1f3935881c36"
      },
      "execution_count": 1,
      "outputs": [
        {
          "output_type": "stream",
          "name": "stdout",
          "text": [
            "\r0% [Working]\r            \rGet:1 https://cloud.r-project.org/bin/linux/ubuntu bionic-cran40/ InRelease [3,626 B]\n",
            "\r0% [Waiting for headers] [Waiting for headers] [1 InRelease 0 B/3,626 B 0%] [Co\r0% [Waiting for headers] [Waiting for headers] [Connecting to ppa.launchpad.net\r0% [1 InRelease gpgv 3,626 B] [Waiting for headers] [Waiting for headers] [Wait\r                                                                               \rIgn:2 https://developer.download.nvidia.com/compute/cuda/repos/ubuntu1804/x86_64  InRelease\n",
            "\r0% [1 InRelease gpgv 3,626 B] [Waiting for headers] [Waiting for headers] [Wait\r                                                                               \rHit:3 http://archive.ubuntu.com/ubuntu bionic InRelease\n",
            "\r0% [1 InRelease gpgv 3,626 B] [Waiting for headers] [Waiting for headers] [Wait\r                                                                               \rGet:4 http://security.ubuntu.com/ubuntu bionic-security InRelease [88.7 kB]\n",
            "Get:5 http://ppa.launchpad.net/c2d4u.team/c2d4u4.0+/ubuntu bionic InRelease [15.9 kB]\n",
            "Get:6 http://archive.ubuntu.com/ubuntu bionic-updates InRelease [88.7 kB]\n",
            "Hit:7 http://ppa.launchpad.net/cran/libgit2/ubuntu bionic InRelease\n",
            "Ign:8 https://developer.download.nvidia.com/compute/machine-learning/repos/ubuntu1804/x86_64  InRelease\n",
            "Get:9 https://developer.download.nvidia.com/compute/cuda/repos/ubuntu1804/x86_64  Release [696 B]\n",
            "Hit:10 https://developer.download.nvidia.com/compute/machine-learning/repos/ubuntu1804/x86_64  Release\n",
            "Get:11 https://developer.download.nvidia.com/compute/cuda/repos/ubuntu1804/x86_64  Release.gpg [836 B]\n",
            "Get:12 http://archive.ubuntu.com/ubuntu bionic-backports InRelease [74.6 kB]\n",
            "Hit:13 http://ppa.launchpad.net/deadsnakes/ppa/ubuntu bionic InRelease\n",
            "Get:14 http://ppa.launchpad.net/graphics-drivers/ppa/ubuntu bionic InRelease [21.3 kB]\n",
            "Get:15 http://ppa.launchpad.net/c2d4u.team/c2d4u4.0+/ubuntu bionic/main Sources [1,827 kB]\n",
            "Get:16 http://security.ubuntu.com/ubuntu bionic-security/restricted amd64 Packages [806 kB]\n",
            "Get:17 http://security.ubuntu.com/ubuntu bionic-security/main amd64 Packages [2,594 kB]\n",
            "Get:18 http://ppa.launchpad.net/c2d4u.team/c2d4u4.0+/ubuntu bionic/main amd64 Packages [937 kB]\n",
            "Get:19 http://security.ubuntu.com/ubuntu bionic-security/universe amd64 Packages [1,474 kB]\n",
            "Get:20 http://archive.ubuntu.com/ubuntu bionic-updates/main amd64 Packages [3,035 kB]\n",
            "Get:21 http://archive.ubuntu.com/ubuntu bionic-updates/universe amd64 Packages [2,252 kB]\n",
            "Get:22 http://archive.ubuntu.com/ubuntu bionic-updates/restricted amd64 Packages [840 kB]\n",
            "Get:24 https://developer.download.nvidia.com/compute/cuda/repos/ubuntu1804/x86_64  Packages [929 kB]\n",
            "Get:25 http://ppa.launchpad.net/graphics-drivers/ppa/ubuntu bionic/main amd64 Packages [42.8 kB]\n",
            "Fetched 15.0 MB in 6s (2,508 kB/s)\n",
            "Reading package lists... Done\n"
          ]
        }
      ]
    },
    {
      "cell_type": "code",
      "source": [
        "!wget https://jdbc.postgresql.org/download/postgresql-42.2.9.jar"
      ],
      "metadata": {
        "id": "mfvePy-Sz1jn",
        "colab": {
          "base_uri": "https://localhost:8080/"
        },
        "outputId": "9b56cbe5-adcf-4f10-e537-925594cfdae7"
      },
      "execution_count": 2,
      "outputs": [
        {
          "output_type": "stream",
          "name": "stdout",
          "text": [
            "--2022-02-23 02:31:51--  https://jdbc.postgresql.org/download/postgresql-42.2.9.jar\n",
            "Resolving jdbc.postgresql.org (jdbc.postgresql.org)... 72.32.157.228, 2001:4800:3e1:1::228\n",
            "Connecting to jdbc.postgresql.org (jdbc.postgresql.org)|72.32.157.228|:443... connected.\n",
            "HTTP request sent, awaiting response... 200 OK\n",
            "Length: 914037 (893K) [application/java-archive]\n",
            "Saving to: ‘postgresql-42.2.9.jar’\n",
            "\n",
            "postgresql-42.2.9.j 100%[===================>] 892.61K  5.12MB/s    in 0.2s    \n",
            "\n",
            "2022-02-23 02:31:52 (5.12 MB/s) - ‘postgresql-42.2.9.jar’ saved [914037/914037]\n",
            "\n"
          ]
        }
      ]
    },
    {
      "cell_type": "code",
      "source": [
        "# Start Spark session\n",
        "from pyspark.sql import SparkSession\n",
        "spark = SparkSession.builder.appName(\"CloudETL\").config(\"spark.driver.extraClassPath\",\"/content/postgresql-42.2.9.jar\").getOrCreate()"
      ],
      "metadata": {
        "id": "2MlBP3SS7YXF"
      },
      "execution_count": 3,
      "outputs": []
    },
    {
      "cell_type": "code",
      "source": [
        "from pyspark import SparkFiles\n",
        "url =\"https://s3.amazonaws.com/amazon-reviews-pds/tsv/amazon_reviews_us_Watches_v1_00.tsv.gz\"\n",
        "spark.sparkContext.addFile(url)\n",
        "watches = spark.read.csv(SparkFiles.get(\"amazon_reviews_us_Watches_v1_00.tsv.gz\"), sep=\"\\t\", header=True)\n",
        "\n",
        "# Show DataFrame\n",
        "watches.show()"
      ],
      "metadata": {
        "id": "D4ufefOg7Y0V",
        "colab": {
          "base_uri": "https://localhost:8080/"
        },
        "outputId": "50bba1bc-b67b-4dd3-ebd7-c15763c1e4b0"
      },
      "execution_count": 4,
      "outputs": [
        {
          "output_type": "stream",
          "name": "stdout",
          "text": [
            "+-----------+-----------+--------------+----------+--------------+--------------------+----------------+-----------+-------------+-----------+----+-----------------+--------------------+--------------------+-----------+\n",
            "|marketplace|customer_id|     review_id|product_id|product_parent|       product_title|product_category|star_rating|helpful_votes|total_votes|vine|verified_purchase|     review_headline|         review_body|review_date|\n",
            "+-----------+-----------+--------------+----------+--------------+--------------------+----------------+-----------+-------------+-----------+----+-----------------+--------------------+--------------------+-----------+\n",
            "|         US|    3653882|R3O9SGZBVQBV76|B00FALQ1ZC|     937001370|Invicta Women's 1...|         Watches|          5|            0|          0|   N|                Y|          Five Stars|Absolutely love t...| 2015-08-31|\n",
            "|         US|   14661224| RKH8BNC3L5DLF|B00D3RGO20|     484010722|Kenneth Cole New ...|         Watches|          5|            0|          0|   N|                Y|I love thiswatch ...|I love this watch...| 2015-08-31|\n",
            "|         US|   27324930|R2HLE8WKZSU3NL|B00DKYC7TK|     361166390|Ritche 22mm Black...|         Watches|          2|            1|          1|   N|                Y|           Two Stars|           Scratches| 2015-08-31|\n",
            "|         US|    7211452|R31U3UH5AZ42LL|B000EQS1JW|     958035625|Citizen Men's BM8...|         Watches|          5|            0|          0|   N|                Y|          Five Stars|It works well on ...| 2015-08-31|\n",
            "|         US|   12733322|R2SV659OUJ945Y|B00A6GFD7S|     765328221|Orient ER27009B M...|         Watches|          4|            0|          0|   N|                Y|Beautiful face, b...|Beautiful watch f...| 2015-08-31|\n",
            "|         US|    6576411| RA51CP8TR5A2L|B00EYSOSE8|     230493695|Casio Men's GW-94...|         Watches|          5|            0|          0|   N|                Y|       No complaints|i love this watch...| 2015-08-31|\n",
            "|         US|   11811565| RB2Q7DLDN6TH6|B00WM0QA3M|     549298279|Fossil Women's ES...|         Watches|          5|            1|          1|   N|                Y|          Five Stars|for my wife and s...| 2015-08-31|\n",
            "|         US|   49401598|R2RHFJV0UYBK3Y|B00A4EYBR0|     844009113|INFANTRY Mens Nig...|         Watches|          1|            1|          5|   N|                N|I was about to bu...|I was about to bu...| 2015-08-31|\n",
            "|         US|   45925069|R2Z6JOQ94LFHEP|B00MAMPGGE|     263720892|G-Shock Men's Gre...|         Watches|          5|            1|          2|   N|                Y|      Perfect watch!|Watch is perfect....| 2015-08-31|\n",
            "|         US|   44751341| RX27XIIWY5JPB|B004LBPB7Q|     124278407|Heiden Quad Watch...|         Watches|          4|            0|          0|   N|                Y|Great quality and...|Great quality and...| 2015-08-31|\n",
            "|         US|    9962330|R15C7QEZT0LGZN|B00KGTVGKS|      28017857|Fossil Women's ES...|         Watches|          4|            2|          2|   N|                Y|           Satisfied|The watch was pre...| 2015-08-31|\n",
            "|         US|   16097204|R361XSS37V0NCZ|B0039UT5OU|     685450910|Casio General Men...|         Watches|          1|            0|          0|   N|                N|I do not think th...|I bought this wat...| 2015-08-31|\n",
            "|         US|   51330346| ROTNLALUAJAUB|B00MPF0XJQ|     767769082|2Tone Gold Silver...|         Watches|          3|            0|          0|   N|                Y|         Three Stars|It is a cheap wat...| 2015-08-31|\n",
            "|         US|    4201739|R2DYX7QU6BGOHR|B003P1OHHS|     648595227|Bulova Men's 98B1...|         Watches|          5|            0|          0|   N|                Y|          Five Stars|Heavier than i th...| 2015-08-31|\n",
            "|         US|   26339765| RWASY7FKI7QOT|B00R70YEOE|     457338020|Casio - G-Shock -...|         Watches|          5|            2|          3|   N|                Y|  Worth it - love it|Had it for severa...| 2015-08-31|\n",
            "|         US|    2692576|R2KKYZIN3CCL21|B000FVE3BG|     824370661|Invicta Men's 332...|         Watches|          5|            0|          0|   N|                Y|This is when diff...|This one is diffe...| 2015-08-31|\n",
            "|         US|   44713366|R22H4FGVD5O52O|B008X6JB12|     814431355|Seiko Women's SUT...|         Watches|          4|            1|          1|   N|                Y|Thewatch is attra...|The watch is attr...| 2015-08-31|\n",
            "|         US|   32778769|R11UACZERCM4ZY|B0040UOFPW|     187700878|Anne Klein Women'...|         Watches|          5|            0|          0|   N|                Y|          Five Stars|      said my wife..| 2015-08-31|\n",
            "|         US|   27258523|R1AT8NQ38UQOL6|B00UR2R5UY|     594315262|Guess U13630G1 Me...|         Watches|          5|            0|          0|   N|                Y|          Five Stars|Nice watch, on ti...| 2015-08-31|\n",
            "|         US|   42646538|R2NCZRQGIF1Q75|B00HFF57L0|     520810507|Nixon Men's Geo V...|         Watches|          4|            0|          0|   N|                Y|        Very stylish|Looks great and l...| 2015-08-31|\n",
            "+-----------+-----------+--------------+----------+--------------+--------------------+----------------+-----------+-------------+-----------+----+-----------------+--------------------+--------------------+-----------+\n",
            "only showing top 20 rows\n",
            "\n"
          ]
        }
      ]
    },
    {
      "cell_type": "code",
      "source": [
        "watches.count()"
      ],
      "metadata": {
        "id": "qoBXMcnD7Y24",
        "colab": {
          "base_uri": "https://localhost:8080/"
        },
        "outputId": "583a406d-9b4d-444a-ca94-e61e3e76de99"
      },
      "execution_count": 5,
      "outputs": [
        {
          "output_type": "execute_result",
          "data": {
            "text/plain": [
              "960872"
            ]
          },
          "metadata": {},
          "execution_count": 5
        }
      ]
    },
    {
      "cell_type": "code",
      "source": [
        "watches = watches.dropna()"
      ],
      "metadata": {
        "id": "W7or4Ane7Y5L"
      },
      "execution_count": 6,
      "outputs": []
    },
    {
      "cell_type": "code",
      "source": [
        "watches = watches.dropDuplicates()"
      ],
      "metadata": {
        "id": "uBP6Dhxaanzb"
      },
      "execution_count": 7,
      "outputs": []
    },
    {
      "cell_type": "code",
      "source": [
        "watches.count()"
      ],
      "metadata": {
        "colab": {
          "base_uri": "https://localhost:8080/"
        },
        "id": "kLyWH96DnqOL",
        "outputId": "511d3c3b-3afe-4e36-e016-24e1987153f7"
      },
      "execution_count": 8,
      "outputs": [
        {
          "output_type": "execute_result",
          "data": {
            "text/plain": [
              "960679"
            ]
          },
          "metadata": {},
          "execution_count": 8
        }
      ]
    },
    {
      "cell_type": "code",
      "source": [
        "watches.printSchema()"
      ],
      "metadata": {
        "colab": {
          "base_uri": "https://localhost:8080/"
        },
        "id": "bY2hW3zrnqRI",
        "outputId": "14fbc59f-ab39-450f-db8a-c7752f1a04c5"
      },
      "execution_count": 9,
      "outputs": [
        {
          "output_type": "stream",
          "name": "stdout",
          "text": [
            "root\n",
            " |-- marketplace: string (nullable = true)\n",
            " |-- customer_id: string (nullable = true)\n",
            " |-- review_id: string (nullable = true)\n",
            " |-- product_id: string (nullable = true)\n",
            " |-- product_parent: string (nullable = true)\n",
            " |-- product_title: string (nullable = true)\n",
            " |-- product_category: string (nullable = true)\n",
            " |-- star_rating: string (nullable = true)\n",
            " |-- helpful_votes: string (nullable = true)\n",
            " |-- total_votes: string (nullable = true)\n",
            " |-- vine: string (nullable = true)\n",
            " |-- verified_purchase: string (nullable = true)\n",
            " |-- review_headline: string (nullable = true)\n",
            " |-- review_body: string (nullable = true)\n",
            " |-- review_date: string (nullable = true)\n",
            "\n"
          ]
        }
      ]
    },
    {
      "cell_type": "code",
      "source": [
        "from pyspark.sql.types import StringType, DateType, FloatType, IntegerType\n",
        "\n",
        "watches = watches.withColumn(\"customer_id\",watches[\"customer_id\"].cast(IntegerType())) \\\n",
        "    .withColumn(\"star_rating\",watches[\"star_rating\"].cast(IntegerType())) \\\n",
        "    .withColumn(\"product_parent\",watches[\"product_parent\"].cast(IntegerType())) \\\n",
        "    .withColumn(\"review_date\",watches[\"review_date\"].cast(DateType())) \\\n",
        "    .withColumn(\"helpful_votes\",watches[\"helpful_votes\"].cast(IntegerType())) \\\n",
        "    .withColumn(\"total_votes\",watches[\"total_votes\"].cast(IntegerType())) \n",
        "watches.printSchema()\n"
      ],
      "metadata": {
        "colab": {
          "base_uri": "https://localhost:8080/"
        },
        "id": "ooL89tFMnqUx",
        "outputId": "a66480d0-7422-4320-99a0-4b2ce141c25a"
      },
      "execution_count": 10,
      "outputs": [
        {
          "output_type": "stream",
          "name": "stdout",
          "text": [
            "root\n",
            " |-- marketplace: string (nullable = true)\n",
            " |-- customer_id: integer (nullable = true)\n",
            " |-- review_id: string (nullable = true)\n",
            " |-- product_id: string (nullable = true)\n",
            " |-- product_parent: integer (nullable = true)\n",
            " |-- product_title: string (nullable = true)\n",
            " |-- product_category: string (nullable = true)\n",
            " |-- star_rating: integer (nullable = true)\n",
            " |-- helpful_votes: integer (nullable = true)\n",
            " |-- total_votes: integer (nullable = true)\n",
            " |-- vine: string (nullable = true)\n",
            " |-- verified_purchase: string (nullable = true)\n",
            " |-- review_headline: string (nullable = true)\n",
            " |-- review_body: string (nullable = true)\n",
            " |-- review_date: date (nullable = true)\n",
            "\n"
          ]
        }
      ]
    },
    {
      "cell_type": "code",
      "source": [
        "review_id_table = watches.select(['review_id', 'customer_id', 'product_id', 'product_parent', 'review_date'])\n",
        "review_id_table.show()"
      ],
      "metadata": {
        "colab": {
          "base_uri": "https://localhost:8080/"
        },
        "id": "zpya26xloQBH",
        "outputId": "d7fe2a0f-7622-4356-d44e-d9d1c37ebdfb"
      },
      "execution_count": 11,
      "outputs": [
        {
          "output_type": "stream",
          "name": "stdout",
          "text": [
            "+--------------+-----------+----------+--------------+-----------+\n",
            "|     review_id|customer_id|product_id|product_parent|review_date|\n",
            "+--------------+-----------+----------+--------------+-----------+\n",
            "|R101G33FIEDHQG|   22594238|B000PSN090|     425533441| 2015-02-08|\n",
            "|R10339L4K4LX3C|   20301275|B00LTQTH58|     732935288| 2014-11-18|\n",
            "|R1073CM97QGOPP|   32190651|B004V23YV0|     921921436| 2015-07-06|\n",
            "|R107KYD2GYG4DK|    1424324|B004Y4CMCM|     452126791| 2014-07-05|\n",
            "|R10AYHA3991CS9|   26642389|B00J0SSATQ|     682900500| 2014-10-28|\n",
            "|R10C59FCUFOZPG|   15168495|B005FMYSWO|     824130779| 2012-03-07|\n",
            "|R10DZLWV4QYCPI|    2239995|B000FVC5LG|     918169894| 2014-08-21|\n",
            "|R10E5DEJ235Z19|    5378758|B003IHFGBK|     857934958| 2014-02-08|\n",
            "|R10E6QP8RITUIA|    8495726|B00DI315GE|     734054846| 2015-03-23|\n",
            "|R10F6W35V8C1ER|   25578677|B006076T5M|     832352606| 2013-04-10|\n",
            "|R10G5F537HMGLR|   12806455|B00CJXMLNK|     908427132| 2014-01-06|\n",
            "|R10GL8NCNQU8M7|   15231446|B00I9I70BM|     419690985| 2015-04-15|\n",
            "|R10LINWDMEJ36W|   49886929|B0030DFF90|     839948246| 2014-11-01|\n",
            "|R10LY9CC9X0LFU|   30322418|B001P80F1U|     849924669| 2012-06-30|\n",
            "|R10NULP9XVKIZ1|   14082889|B001SN7RYU|     176617212| 2010-09-20|\n",
            "|R10OBYKK764PYU|    6521033|B00R5Z4RIY|     665723394| 2015-07-07|\n",
            "|R10OX8Q91SGWYJ|   24437869|B0035KKR82|     552231759| 2014-11-03|\n",
            "|R10QPAZPF866RT|   40722264|B00E4PQE4S|     786460878| 2014-11-26|\n",
            "|R10QUSB3X4422J|   30418303|B00J5EINZG|     947984166| 2015-01-11|\n",
            "|R10R0N9B8HAVIU|   14391166|B006SICNWG|     261656072| 2013-04-16|\n",
            "+--------------+-----------+----------+--------------+-----------+\n",
            "only showing top 20 rows\n",
            "\n"
          ]
        }
      ]
    },
    {
      "cell_type": "code",
      "source": [
        "products = watches.select(['product_id', 'product_title'])\n",
        "products.show()"
      ],
      "metadata": {
        "colab": {
          "base_uri": "https://localhost:8080/"
        },
        "id": "QQ2nreXZoQDp",
        "outputId": "0718fda9-d7a1-4056-d928-81d4a849540a"
      },
      "execution_count": 12,
      "outputs": [
        {
          "output_type": "stream",
          "name": "stdout",
          "text": [
            "+----------+--------------------+\n",
            "|product_id|       product_title|\n",
            "+----------+--------------------+\n",
            "|B000PSN090|Nautica Men's N14...|\n",
            "|B00LTQTH58|Sotijobs Unisex T...|\n",
            "|B004V23YV0|Seiko 5 Sport Aut...|\n",
            "|B004Y4CMCM|Casio Women's LTP...|\n",
            "|B00J0SSATQ|Armitron Sport Un...|\n",
            "|B005FMYSWO|Invicta Men's 092...|\n",
            "|B000FVC5LG|Invicta Women's 2...|\n",
            "|B003IHFGBK|Nixon Unisex Time...|\n",
            "|B00DI315GE|Stuhrling Origina...|\n",
            "|B006076T5M|ShoppeWatch Skele...|\n",
            "|B00CJXMLNK|TW Steel Pilot Ti...|\n",
            "|B00I9I70BM|Casio Men's W-S22...|\n",
            "|B0030DFF90|Anne Klein Modern...|\n",
            "|B001P80F1U|Invicta Women's 5...|\n",
            "|B001SN7RYU|Invicta Men's 721...|\n",
            "|B00R5Z4RIY|Lucien Piccard Me...|\n",
            "|B0035KKR82|Fossil Ch2601p De...|\n",
            "|B00E4PQE4S|Armitron Sport Me...|\n",
            "|B00J5EINZG|Versace Men's VDB...|\n",
            "|B006SICNWG|ShoppeWatch Hand ...|\n",
            "+----------+--------------------+\n",
            "only showing top 20 rows\n",
            "\n"
          ]
        }
      ]
    },
    {
      "cell_type": "code",
      "source": [
        "products = products.dropDuplicates()"
      ],
      "metadata": {
        "id": "MxE5CT_IdgQo"
      },
      "execution_count": 22,
      "outputs": []
    },
    {
      "cell_type": "code",
      "source": [
        "customers = watches.groupBy('customer_id').agg({'customer_id': 'count'})\n",
        "customers = customers.withColumnRenamed('count(customer_id)', 'customer_count')\n",
        "customers.show()"
      ],
      "metadata": {
        "colab": {
          "base_uri": "https://localhost:8080/"
        },
        "id": "5JDwty6doQGp",
        "outputId": "3c3bdd45-c328-42db-b8cf-675bc8772b27"
      },
      "execution_count": 13,
      "outputs": [
        {
          "output_type": "stream",
          "name": "stdout",
          "text": [
            "+-----------+--------------+\n",
            "|customer_id|customer_count|\n",
            "+-----------+--------------+\n",
            "|    2252188|             1|\n",
            "|   52373157|             3|\n",
            "|    2594156|             2|\n",
            "|   13373248|             1|\n",
            "|   20671851|            24|\n",
            "|   45153737|             5|\n",
            "|    2891243|             2|\n",
            "|   45938967|             1|\n",
            "|   39355523|             1|\n",
            "|   29954480|             1|\n",
            "|   45726037|             2|\n",
            "|   12665682|             1|\n",
            "|   12550672|             7|\n",
            "|   22426070|             1|\n",
            "|   13309307|             1|\n",
            "|   11441161|             2|\n",
            "|   25694626|             1|\n",
            "|   12799553|             1|\n",
            "|   24740812|             1|\n",
            "|   12536485|             3|\n",
            "+-----------+--------------+\n",
            "only showing top 20 rows\n",
            "\n"
          ]
        }
      ]
    },
    {
      "cell_type": "code",
      "source": [
        "vine_table = watches.select(['review_id', 'star_rating', 'helpful_votes', 'total_votes', 'vine'])\n",
        "vine_table.show()"
      ],
      "metadata": {
        "colab": {
          "base_uri": "https://localhost:8080/"
        },
        "id": "FfR2Y48joQJD",
        "outputId": "cbe08152-f2ef-4f48-86fd-accfbec32ba1"
      },
      "execution_count": 14,
      "outputs": [
        {
          "output_type": "stream",
          "name": "stdout",
          "text": [
            "+--------------+-----------+-------------+-----------+----+\n",
            "|     review_id|star_rating|helpful_votes|total_votes|vine|\n",
            "+--------------+-----------+-------------+-----------+----+\n",
            "|R101G33FIEDHQG|          3|            0|          0|   N|\n",
            "|R10339L4K4LX3C|          4|            1|          2|   N|\n",
            "|R1073CM97QGOPP|          5|            0|          0|   N|\n",
            "|R107KYD2GYG4DK|          5|            0|          0|   N|\n",
            "|R10AYHA3991CS9|          5|            2|          2|   N|\n",
            "|R10C59FCUFOZPG|          5|            3|          3|   N|\n",
            "|R10DZLWV4QYCPI|          5|            0|          0|   N|\n",
            "|R10E5DEJ235Z19|          4|            1|          2|   N|\n",
            "|R10E6QP8RITUIA|          5|            0|          0|   N|\n",
            "|R10F6W35V8C1ER|          5|            0|          0|   N|\n",
            "|R10G5F537HMGLR|          3|           26|         34|   N|\n",
            "|R10GL8NCNQU8M7|          3|            0|          0|   N|\n",
            "|R10LINWDMEJ36W|          5|            0|          0|   N|\n",
            "|R10LY9CC9X0LFU|          5|            0|          0|   N|\n",
            "|R10NULP9XVKIZ1|          4|            1|          1|   N|\n",
            "|R10OBYKK764PYU|          5|            0|          0|   N|\n",
            "|R10OX8Q91SGWYJ|          5|            0|          1|   N|\n",
            "|R10QPAZPF866RT|          5|            2|          3|   N|\n",
            "|R10QUSB3X4422J|          5|            3|          3|   N|\n",
            "|R10R0N9B8HAVIU|          5|            1|          1|   N|\n",
            "+--------------+-----------+-------------+-----------+----+\n",
            "only showing top 20 rows\n",
            "\n"
          ]
        }
      ]
    },
    {
      "cell_type": "code",
      "source": [
        "mode = \"append\"\n",
        "jdbc_url=\"jdbc:postgresql://<endpoint>.amazonaws.com:5432/watches\"\n",
        "config = {\"user\":\"root\", \"password\": <password>, \"driver\":\"org.postgresql.Driver\"}"
      ],
      "metadata": {
        "id": "Rz_05rF-oeQd"
      },
      "execution_count": 15,
      "outputs": []
    },
    {
      "cell_type": "code",
      "source": [
        "review_id_table.write.jdbc(url=jdbc_url, table='review_id_table', mode=mode, properties=config)"
      ],
      "metadata": {
        "id": "p5JXJ4XnoeUP"
      },
      "execution_count": null,
      "outputs": []
    },
    {
      "cell_type": "code",
      "source": [
        "products.write.jdbc(url=jdbc_url, table='products', mode=mode, properties=config)"
      ],
      "metadata": {
        "id": "Zt221BUqoeXc"
      },
      "execution_count": 23,
      "outputs": []
    },
    {
      "cell_type": "code",
      "source": [
        "customers.write.jdbc(url=jdbc_url, table='customers', mode=mode, properties=config)"
      ],
      "metadata": {
        "id": "rKx2CrQmo0-2"
      },
      "execution_count": 18,
      "outputs": []
    },
    {
      "cell_type": "code",
      "source": [
        "vine_table.write.jdbc(url=jdbc_url, table='vine_table', mode=mode, properties=config)"
      ],
      "metadata": {
        "id": "1NZulyO4o1DQ"
      },
      "execution_count": 19,
      "outputs": []
    }
  ]
}