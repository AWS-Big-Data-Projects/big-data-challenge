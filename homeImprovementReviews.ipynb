{
  "cells": [
    {
      "cell_type": "markdown",
      "metadata": {
        "id": "view-in-github",
        "colab_type": "text"
      },
      "source": [
        "<a href=\"https://colab.research.google.com/github/ClaytonsCreations/AWS_BigData/blob/main/homeImprovementReviews.ipynb\" target=\"_parent\"><img src=\"https://colab.research.google.com/assets/colab-badge.svg\" alt=\"Open In Colab\"/></a>"
      ]
    },
    {
      "cell_type": "code",
      "execution_count": null,
      "metadata": {
        "colab": {
          "base_uri": "https://localhost:8080/"
        },
        "id": "0585Dev46wke",
        "outputId": "dd480384-f740-4c3d-eaf1-1598544ace5d"
      },
      "outputs": [
        {
          "name": "stdout",
          "output_type": "stream",
          "text": [
            "\r0% [Working]\r            \rIgn:1 https://developer.download.nvidia.com/compute/cuda/repos/ubuntu1804/x86_64  InRelease\n",
            "\r0% [Connecting to archive.ubuntu.com (91.189.88.142)] [Connecting to security.u\r                                                                               \rGet:2 https://cloud.r-project.org/bin/linux/ubuntu bionic-cran40/ InRelease [3,626 B]\n",
            "\r0% [Connecting to archive.ubuntu.com (91.189.88.142)] [Connecting to security.u\r0% [Connecting to archive.ubuntu.com (91.189.88.142)] [Connecting to security.u\r                                                                               \rIgn:3 https://developer.download.nvidia.com/compute/machine-learning/repos/ubuntu1804/x86_64  InRelease\n",
            "\r0% [Connecting to archive.ubuntu.com (91.189.88.142)] [Connecting to security.u\r0% [2 InRelease gpgv 3,626 B] [Connecting to archive.ubuntu.com (91.189.88.142)\r                                                                               \rGet:4 https://developer.download.nvidia.com/compute/cuda/repos/ubuntu1804/x86_64  Release [696 B]\n",
            "\r0% [2 InRelease gpgv 3,626 B] [Connecting to archive.ubuntu.com (91.189.88.142)\r                                                                               \rHit:5 https://developer.download.nvidia.com/compute/machine-learning/repos/ubuntu1804/x86_64  Release\n",
            "Get:6 https://developer.download.nvidia.com/compute/cuda/repos/ubuntu1804/x86_64  Release.gpg [836 B]\n",
            "Hit:7 http://archive.ubuntu.com/ubuntu bionic InRelease\n",
            "Get:8 http://security.ubuntu.com/ubuntu bionic-security InRelease [88.7 kB]\n",
            "Get:9 http://ppa.launchpad.net/c2d4u.team/c2d4u4.0+/ubuntu bionic InRelease [15.9 kB]\n",
            "Get:10 http://archive.ubuntu.com/ubuntu bionic-updates InRelease [88.7 kB]\n",
            "Hit:11 http://ppa.launchpad.net/cran/libgit2/ubuntu bionic InRelease\n",
            "Get:13 http://archive.ubuntu.com/ubuntu bionic-backports InRelease [74.6 kB]\n",
            "Get:14 http://ppa.launchpad.net/deadsnakes/ppa/ubuntu bionic InRelease [15.9 kB]\n",
            "Get:15 https://developer.download.nvidia.com/compute/cuda/repos/ubuntu1804/x86_64  Packages [917 kB]\n",
            "Get:16 http://ppa.launchpad.net/graphics-drivers/ppa/ubuntu bionic InRelease [21.3 kB]\n",
            "Get:17 http://ppa.launchpad.net/c2d4u.team/c2d4u4.0+/ubuntu bionic/main Sources [1,827 kB]\n",
            "Get:18 http://security.ubuntu.com/ubuntu bionic-security/multiverse amd64 Packages [21.1 kB]\n",
            "Get:19 http://security.ubuntu.com/ubuntu bionic-security/main amd64 Packages [2,564 kB]\n",
            "Get:20 http://archive.ubuntu.com/ubuntu bionic-updates/multiverse amd64 Packages [29.0 kB]\n",
            "Get:21 http://security.ubuntu.com/ubuntu bionic-security/restricted amd64 Packages [783 kB]\n",
            "Get:22 http://archive.ubuntu.com/ubuntu bionic-updates/restricted amd64 Packages [840 kB]\n",
            "Get:23 http://security.ubuntu.com/ubuntu bionic-security/universe amd64 Packages [1,470 kB]\n",
            "Get:24 http://ppa.launchpad.net/c2d4u.team/c2d4u4.0+/ubuntu bionic/main amd64 Packages [937 kB]\n",
            "Get:25 http://archive.ubuntu.com/ubuntu bionic-updates/main amd64 Packages [3,034 kB]\n",
            "Get:26 http://archive.ubuntu.com/ubuntu bionic-updates/universe amd64 Packages [2,252 kB]\n",
            "Get:27 http://ppa.launchpad.net/deadsnakes/ppa/ubuntu bionic/main amd64 Packages [45.3 kB]\n",
            "Get:28 http://ppa.launchpad.net/graphics-drivers/ppa/ubuntu bionic/main amd64 Packages [42.8 kB]\n",
            "Fetched 15.1 MB in 6s (2,645 kB/s)\n",
            "Reading package lists... Done\n"
          ]
        }
      ],
      "source": [
        "import os\n",
        "# Find the latest version of spark 3.0  from http://www.apache.org/dist/spark/ and enter as the spark version\n",
        "# For example:\n",
        "# spark_version = 'spark-3.0.3'\n",
        "spark_version = 'spark-3.2.1'\n",
        "os.environ['SPARK_VERSION']=spark_version\n",
        "\n",
        "# Install Spark and Java\n",
        "!apt-get update\n",
        "!apt-get install openjdk-8-jdk-headless -qq > /dev/null\n",
        "!wget -q http://www.apache.org/dist/spark/$SPARK_VERSION/$SPARK_VERSION-bin-hadoop2.7.tgz\n",
        "!tar xf $SPARK_VERSION-bin-hadoop2.7.tgz\n",
        "!pip install -q findspark\n",
        "\n",
        "# Set Environment Variables\n",
        "os.environ[\"JAVA_HOME\"] = \"/usr/lib/jvm/java-8-openjdk-amd64\"\n",
        "os.environ[\"SPARK_HOME\"] = f\"/content/{spark_version}-bin-hadoop2.7\"\n",
        "\n",
        "# Start a SparkSession\n",
        "import findspark\n",
        "findspark.init()"
      ]
    },
    {
      "cell_type": "code",
      "execution_count": null,
      "metadata": {
        "colab": {
          "base_uri": "https://localhost:8080/"
        },
        "id": "NjYQ_9cvzrC3",
        "outputId": "c0757ee1-deaa-4b1a-eaee-0c9f84fa995a"
      },
      "outputs": [
        {
          "name": "stdout",
          "output_type": "stream",
          "text": [
            "--2022-02-21 18:32:39--  https://jdbc.postgresql.org/download/postgresql-42.2.9.jar\n",
            "Resolving jdbc.postgresql.org (jdbc.postgresql.org)... 72.32.157.228, 2001:4800:3e1:1::228\n",
            "Connecting to jdbc.postgresql.org (jdbc.postgresql.org)|72.32.157.228|:443... connected.\n",
            "HTTP request sent, awaiting response... 200 OK\n",
            "Length: 914037 (893K) [application/java-archive]\n",
            "Saving to: ‘postgresql-42.2.9.jar’\n",
            "\n",
            "postgresql-42.2.9.j 100%[===================>] 892.61K  5.60MB/s    in 0.2s    \n",
            "\n",
            "2022-02-21 18:32:40 (5.60 MB/s) - ‘postgresql-42.2.9.jar’ saved [914037/914037]\n",
            "\n"
          ]
        }
      ],
      "source": [
        "!wget https://jdbc.postgresql.org/download/postgresql-42.2.9.jar"
      ]
    },
    {
      "cell_type": "code",
      "execution_count": null,
      "metadata": {
        "id": "e5PqFVzp7ZUW"
      },
      "outputs": [],
      "source": [
        "# Start Spark session\n",
        "from pyspark.sql import SparkSession\n",
        "spark = SparkSession.builder.appName(\"CloudETL\").config(\"spark.driver.extraClassPath\",\"/content/postgresql-42.2.9.jar\").getOrCreate()"
      ]
    },
    {
      "cell_type": "code",
      "execution_count": null,
      "metadata": {
        "colab": {
          "base_uri": "https://localhost:8080/"
        },
        "id": "otCYF4BO7ZWx",
        "outputId": "74bb3603-abad-4ea9-ad4b-1e8807a3f9d5"
      },
      "outputs": [
        {
          "name": "stdout",
          "output_type": "stream",
          "text": [
            "+-----------+-----------+--------------+----------+--------------+--------------------+----------------+-----------+-------------+-----------+----+-----------------+--------------------+--------------------+-----------+\n",
            "|marketplace|customer_id|     review_id|product_id|product_parent|       product_title|product_category|star_rating|helpful_votes|total_votes|vine|verified_purchase|     review_headline|         review_body|review_date|\n",
            "+-----------+-----------+--------------+----------+--------------+--------------------+----------------+-----------+-------------+-----------+----+-----------------+--------------------+--------------------+-----------+\n",
            "|         US|   48881148|R215C9BDXTDQOW|B00FR4YQYK|     381800308|SadoTech Model C ...|Home Improvement|          4|            0|          0|   N|                Y|          Four Stars|        good product| 2015-08-31|\n",
            "|         US|   47882936|R1DTPUV1J57YHA|B00439MYYE|     921341748|iSpring T32M 3.2 ...|Home Improvement|          5|            0|          0|   N|                Y|Good price, quick...|Good price, quick...| 2015-08-31|\n",
            "|         US|   44435471| RFAZK5EWKJWOU|B00002N762|      56053291|Schlage F10CS V E...|Home Improvement|          5|            0|          0|   N|                Y|          Five Stars|       Excellent...!| 2015-08-31|\n",
            "|         US|   28377689|R2XT8X0O0WS1AL|B000QFCP1G|     595928517|Citri-Strip QCG73...|Home Improvement|          5|            0|          0|   N|                Y|Although *slightl...|Although *slightl...| 2015-08-31|\n",
            "|         US|   50134766|R14GRNANKO2Y2J|B00WRCRKOI|     417053744|SleekLighting Bul...|Home Improvement|          5|            0|          0|   N|                Y|      Great Adapters|These adapters ar...| 2015-08-31|\n",
            "|         US|   14066511|R2BLF9VYL24LCQ|B00NIH88EW|     275395071|VDOMUS&reg;Exquis...|Home Improvement|          5|            1|          1|   N|                Y|                nice|awesome and great...| 2015-08-31|\n",
            "|         US|   15211046|R1GI9UW5KJ671O|B005B9CI96|     856617815|Frigidaire 316075...|Home Improvement|          5|            0|          0|   N|                Y|          Five Stars|Perfect. Exactly ...| 2015-08-31|\n",
            "|         US|   14862498|R2H5CEJN863M86|B008L0OMWI|     125102494|Anyray® 5-Bulbs 7...|Home Improvement|          5|            0|          1|   N|                Y|So far working gr...|So far working gr...| 2015-08-31|\n",
            "|         US|   23617292| R5PPDHFOZ3SMU|B00P9FTC6O|     523110842|Cambridge 100 pcs...|Home Improvement|          5|            0|          0|   N|                Y|           Ties tie.|Not much to say a...| 2015-08-31|\n",
            "|         US|   35820485| RE1L9IENKJJ7Y|B00K6BQEHQ|     797306964|EUBUY Silver Tone...|Home Improvement|          1|            0|          0|   N|                Y|             GARBAGE|       crap quality.| 2015-08-31|\n",
            "|         US|   47162350|R3CZ0990QC2Z0H|B008BYQCWM|     865874404|Legend 809125 Leg...|Home Improvement|          5|            0|          0|   N|                Y|          Five Stars|  Good. As expected.| 2015-08-31|\n",
            "|         US|   31884789|R3UMMD2IO29QSP|B003BLHTOU|     183592595|Forearm Forklift ...|Home Improvement|          5|            0|          0|   N|                Y|           It works!|My husband and I ...| 2015-08-31|\n",
            "|         US|   43835770| R541LE5J3OJH2|B0065I114K|     185006358|Newer Technology ...|Home Improvement|          5|            0|          0|   N|                Y|          Five Stars|     works perfectly| 2015-08-31|\n",
            "|         US|   26212294|R10KD9FIE6Y1AS|B00J9XB6BQ|      53423207|Rok Hardware 25 P...|Home Improvement|          5|            0|          0|   N|                Y|Banging cabinet d...|Banging cabinet d...| 2015-08-31|\n",
            "|         US|   17876704|R1YT5YG0QG5DCG|B00K36NJ0E|     593464633|Drift Light Using...|Home Improvement|          5|            0|          0|   N|                Y|Great product for...|Great product for...| 2015-08-31|\n",
            "|         US|   22813225|R207LXJWL40V1S|B000ZIEOHW|     833911812|Troy DPH11 Profes...|Home Improvement|          4|            0|          0|   N|                Y|GETTING THE JOB D...|Drywalling our 18...| 2015-08-31|\n",
            "|         US|   25448576| RIDP0ZD7WT9DE|B0009YDHKC|     852173443|Wright Products V...|Home Improvement|          5|            0|          0|   N|                Y|          Five Stars|exact replacement...| 2015-08-31|\n",
            "|         US|   19754503|R2XJSNZ9219U1Z|B00LBGVLS2|     929968058|LiftMaster Garage...|Home Improvement|          5|            0|          0|   N|                Y|Easy to program g...|Works as advertis...| 2015-08-31|\n",
            "|         US|   17767084|R2M9F1FVVDOGFL|B00002N5DY|     830214712|Heath Zenith SL-5...|Home Improvement|          5|            0|          0|   N|                Y|     easy to install|Working well the ...| 2015-08-31|\n",
            "|         US|   48001709|R1QTOSE2BHU2LJ|B000BQOX88|     498022954|Intermatic T101 2...|Home Improvement|          3|            1|          2|   N|                Y|Kind of disappoin...|I connected the r...| 2015-08-31|\n",
            "+-----------+-----------+--------------+----------+--------------+--------------------+----------------+-----------+-------------+-----------+----+-----------------+--------------------+--------------------+-----------+\n",
            "only showing top 20 rows\n",
            "\n"
          ]
        }
      ],
      "source": [
        "from pyspark import SparkFiles\n",
        "url =\"https://s3.amazonaws.com/amazon-reviews-pds/tsv/amazon_reviews_us_Home_Improvement_v1_00.tsv.gz\"\n",
        "spark.sparkContext.addFile(url)\n",
        "home_imp_df = spark.read.csv(SparkFiles.get(\"amazon_reviews_us_Home_Improvement_v1_00.tsv.gz\"), sep=\"\\t\", header=True)\n",
        "\n",
        "# Show DataFrame\n",
        "home_imp_df.show()\n"
      ]
    },
    {
      "cell_type": "code",
      "execution_count": null,
      "metadata": {
        "colab": {
          "base_uri": "https://localhost:8080/"
        },
        "id": "09K9lLh57ZZn",
        "outputId": "ffef3476-48ab-4a9f-8102-f9a03d72721d"
      },
      "outputs": [
        {
          "data": {
            "text/plain": [
              "2634781"
            ]
          },
          "execution_count": 5,
          "metadata": {},
          "output_type": "execute_result"
        }
      ],
      "source": [
        "#count rows\n",
        "home_imp_df.count()"
      ]
    },
    {
      "cell_type": "code",
      "execution_count": null,
      "metadata": {
        "id": "-s0zPa8PDnjK"
      },
      "outputs": [],
      "source": [
        "home_imp_df = home_imp_df.dropna()"
      ]
    },
    {
      "cell_type": "code",
      "execution_count": null,
      "metadata": {
        "colab": {
          "base_uri": "https://localhost:8080/"
        },
        "id": "QOQyNHSIDnsG",
        "outputId": "e9afe379-b783-44fd-999b-4b22f96deed2"
      },
      "outputs": [
        {
          "data": {
            "text/plain": [
              "2634255"
            ]
          },
          "execution_count": 7,
          "metadata": {},
          "output_type": "execute_result"
        }
      ],
      "source": [
        "home_imp_df.count()"
      ]
    },
    {
      "cell_type": "code",
      "execution_count": null,
      "metadata": {
        "colab": {
          "base_uri": "https://localhost:8080/"
        },
        "id": "xJsOSc8hDyoE",
        "outputId": "978addc3-ae50-42f3-950d-51c004d673bd"
      },
      "outputs": [
        {
          "name": "stdout",
          "output_type": "stream",
          "text": [
            "root\n",
            " |-- marketplace: string (nullable = true)\n",
            " |-- customer_id: string (nullable = true)\n",
            " |-- review_id: string (nullable = true)\n",
            " |-- product_id: string (nullable = true)\n",
            " |-- product_parent: string (nullable = true)\n",
            " |-- product_title: string (nullable = true)\n",
            " |-- product_category: string (nullable = true)\n",
            " |-- star_rating: string (nullable = true)\n",
            " |-- helpful_votes: string (nullable = true)\n",
            " |-- total_votes: string (nullable = true)\n",
            " |-- vine: string (nullable = true)\n",
            " |-- verified_purchase: string (nullable = true)\n",
            " |-- review_headline: string (nullable = true)\n",
            " |-- review_body: string (nullable = true)\n",
            " |-- review_date: string (nullable = true)\n",
            "\n"
          ]
        }
      ],
      "source": [
        "home_imp_df.printSchema()"
      ]
    },
    {
      "cell_type": "code",
      "execution_count": null,
      "metadata": {
        "colab": {
          "base_uri": "https://localhost:8080/"
        },
        "id": "nH6CCK7Y624x",
        "outputId": "c13e8d3b-d630-49b9-f54d-a9fa9176e9f5"
      },
      "outputs": [
        {
          "data": {
            "text/plain": [
              "DataFrame[review_id: string, customer_id: string, product_id: string, product_parent: string, review_date: string]"
            ]
          },
          "execution_count": 9,
          "metadata": {},
          "output_type": "execute_result"
        }
      ],
      "source": [
        "home_imp_df.select(['review_id', 'customer_id', 'product_id', 'product_parent', 'review_date'])\n"
      ]
    },
    {
      "cell_type": "code",
      "execution_count": null,
      "metadata": {
        "colab": {
          "base_uri": "https://localhost:8080/"
        },
        "id": "UfITTHnfCO5D",
        "outputId": "c426d76f-d34e-4213-d535-29cfac9d5586"
      },
      "outputs": [
        {
          "name": "stdout",
          "output_type": "stream",
          "text": [
            "root\n",
            " |-- marketplace: string (nullable = true)\n",
            " |-- customer_id: integer (nullable = true)\n",
            " |-- review_id: string (nullable = true)\n",
            " |-- product_id: string (nullable = true)\n",
            " |-- product_parent: integer (nullable = true)\n",
            " |-- product_title: string (nullable = true)\n",
            " |-- product_category: string (nullable = true)\n",
            " |-- star_rating: integer (nullable = true)\n",
            " |-- helpful_votes: integer (nullable = true)\n",
            " |-- total_votes: integer (nullable = true)\n",
            " |-- vine: string (nullable = true)\n",
            " |-- verified_purchase: string (nullable = true)\n",
            " |-- review_headline: string (nullable = true)\n",
            " |-- review_body: string (nullable = true)\n",
            " |-- review_date: date (nullable = true)\n",
            "\n"
          ]
        }
      ],
      "source": [
        "from pyspark.sql.types import StringType, DateType, FloatType, IntegerType\n",
        "\n",
        "home_imp_df = home_imp_df.withColumn(\"customer_id\",home_imp_df[\"customer_id\"].cast(IntegerType())) \\\n",
        "    .withColumn(\"star_rating\",home_imp_df[\"star_rating\"].cast(IntegerType())) \\\n",
        "    .withColumn(\"product_parent\",home_imp_df[\"product_parent\"].cast(IntegerType())) \\\n",
        "    .withColumn(\"review_date\",home_imp_df[\"review_date\"].cast(DateType())) \\\n",
        "    .withColumn(\"helpful_votes\",home_imp_df[\"helpful_votes\"].cast(IntegerType())) \\\n",
        "    .withColumn(\"total_votes\",home_imp_df[\"total_votes\"].cast(IntegerType())) \n",
        "home_imp_df.printSchema()\n",
        "\n"
      ]
    },
    {
      "cell_type": "code",
      "execution_count": null,
      "metadata": {
        "colab": {
          "base_uri": "https://localhost:8080/"
        },
        "id": "JDU-Hy0kCO7v",
        "outputId": "d34e585d-985d-4e66-ce3b-9be2f0b70b8b"
      },
      "outputs": [
        {
          "name": "stdout",
          "output_type": "stream",
          "text": [
            "+--------------+-----------+----------+--------------+-----------+\n",
            "|     review_id|customer_id|product_id|product_parent|review_date|\n",
            "+--------------+-----------+----------+--------------+-----------+\n",
            "|R215C9BDXTDQOW|   48881148|B00FR4YQYK|     381800308| 2015-08-31|\n",
            "|R1DTPUV1J57YHA|   47882936|B00439MYYE|     921341748| 2015-08-31|\n",
            "| RFAZK5EWKJWOU|   44435471|B00002N762|      56053291| 2015-08-31|\n",
            "|R2XT8X0O0WS1AL|   28377689|B000QFCP1G|     595928517| 2015-08-31|\n",
            "|R14GRNANKO2Y2J|   50134766|B00WRCRKOI|     417053744| 2015-08-31|\n",
            "|R2BLF9VYL24LCQ|   14066511|B00NIH88EW|     275395071| 2015-08-31|\n",
            "|R1GI9UW5KJ671O|   15211046|B005B9CI96|     856617815| 2015-08-31|\n",
            "|R2H5CEJN863M86|   14862498|B008L0OMWI|     125102494| 2015-08-31|\n",
            "| R5PPDHFOZ3SMU|   23617292|B00P9FTC6O|     523110842| 2015-08-31|\n",
            "| RE1L9IENKJJ7Y|   35820485|B00K6BQEHQ|     797306964| 2015-08-31|\n",
            "|R3CZ0990QC2Z0H|   47162350|B008BYQCWM|     865874404| 2015-08-31|\n",
            "|R3UMMD2IO29QSP|   31884789|B003BLHTOU|     183592595| 2015-08-31|\n",
            "| R541LE5J3OJH2|   43835770|B0065I114K|     185006358| 2015-08-31|\n",
            "|R10KD9FIE6Y1AS|   26212294|B00J9XB6BQ|      53423207| 2015-08-31|\n",
            "|R1YT5YG0QG5DCG|   17876704|B00K36NJ0E|     593464633| 2015-08-31|\n",
            "|R207LXJWL40V1S|   22813225|B000ZIEOHW|     833911812| 2015-08-31|\n",
            "| RIDP0ZD7WT9DE|   25448576|B0009YDHKC|     852173443| 2015-08-31|\n",
            "|R2XJSNZ9219U1Z|   19754503|B00LBGVLS2|     929968058| 2015-08-31|\n",
            "|R2M9F1FVVDOGFL|   17767084|B00002N5DY|     830214712| 2015-08-31|\n",
            "|R1QTOSE2BHU2LJ|   48001709|B000BQOX88|     498022954| 2015-08-31|\n",
            "+--------------+-----------+----------+--------------+-----------+\n",
            "only showing top 20 rows\n",
            "\n"
          ]
        }
      ],
      "source": [
        "review_id_table = home_imp_df.select(['review_id', 'customer_id', 'product_id', 'product_parent', 'review_date'])\n",
        "review_id_table.show()"
      ]
    },
    {
      "cell_type": "code",
      "execution_count": null,
      "metadata": {
        "colab": {
          "base_uri": "https://localhost:8080/"
        },
        "id": "zZp2Fv5oCO-Z",
        "outputId": "6472b7a2-c554-49d6-ee52-005e013ccc98"
      },
      "outputs": [
        {
          "name": "stdout",
          "output_type": "stream",
          "text": [
            "+----------+--------------------+\n",
            "|product_id|       product_title|\n",
            "+----------+--------------------+\n",
            "|B00FR4YQYK|SadoTech Model C ...|\n",
            "|B00439MYYE|iSpring T32M 3.2 ...|\n",
            "|B00002N762|Schlage F10CS V E...|\n",
            "|B000QFCP1G|Citri-Strip QCG73...|\n",
            "|B00WRCRKOI|SleekLighting Bul...|\n",
            "|B00NIH88EW|VDOMUS&reg;Exquis...|\n",
            "|B005B9CI96|Frigidaire 316075...|\n",
            "|B008L0OMWI|Anyray® 5-Bulbs 7...|\n",
            "|B00P9FTC6O|Cambridge 100 pcs...|\n",
            "|B00K6BQEHQ|EUBUY Silver Tone...|\n",
            "|B008BYQCWM|Legend 809125 Leg...|\n",
            "|B003BLHTOU|Forearm Forklift ...|\n",
            "|B0065I114K|Newer Technology ...|\n",
            "|B00J9XB6BQ|Rok Hardware 25 P...|\n",
            "|B00K36NJ0E|Drift Light Using...|\n",
            "|B000ZIEOHW|Troy DPH11 Profes...|\n",
            "|B0009YDHKC|Wright Products V...|\n",
            "|B00LBGVLS2|LiftMaster Garage...|\n",
            "|B00002N5DY|Heath Zenith SL-5...|\n",
            "|B000BQOX88|Intermatic T101 2...|\n",
            "+----------+--------------------+\n",
            "only showing top 20 rows\n",
            "\n"
          ]
        }
      ],
      "source": [
        "products = home_imp_df.select(['product_id', 'product_title'])\n",
        "products.show()"
      ]
    },
    {
      "cell_type": "code",
      "execution_count": null,
      "metadata": {
        "colab": {
          "base_uri": "https://localhost:8080/"
        },
        "id": "lqFS1YXtCPBE",
        "outputId": "cce96976-3e86-4abb-b326-5148388f1e98"
      },
      "outputs": [
        {
          "name": "stdout",
          "output_type": "stream",
          "text": [
            "+-----------+--------------+\n",
            "|customer_id|customer_count|\n",
            "+-----------+--------------+\n",
            "|   28377689|             1|\n",
            "|   28258386|             2|\n",
            "|    9967574|             1|\n",
            "|   25153155|             1|\n",
            "|   10088068|             1|\n",
            "|   45657423|             1|\n",
            "|   19021463|             1|\n",
            "|   41413793|             2|\n",
            "|   43789873|             2|\n",
            "|   12406466|             1|\n",
            "|   41045019|             1|\n",
            "|   35535911|             2|\n",
            "|   47108763|             1|\n",
            "|   48113150|             1|\n",
            "|   18201417|             9|\n",
            "|   26079415|             3|\n",
            "|   36114891|             7|\n",
            "|    3712628|             1|\n",
            "|   37499901|             2|\n",
            "|   47321438|             2|\n",
            "+-----------+--------------+\n",
            "only showing top 20 rows\n",
            "\n"
          ]
        }
      ],
      "source": [
        "customers = home_imp_df.groupBy('customer_id').agg({'customer_id': 'count'})\n",
        "customers = customers.withColumnRenamed('count(customer_id)', 'customer_count')\n",
        "customers.show()"
      ]
    },
    {
      "cell_type": "code",
      "execution_count": null,
      "metadata": {
        "colab": {
          "base_uri": "https://localhost:8080/"
        },
        "id": "c-rKE938IoET",
        "outputId": "ad4da767-aa68-47ac-89f5-d18535148835"
      },
      "outputs": [
        {
          "name": "stdout",
          "output_type": "stream",
          "text": [
            "+--------------+-----------+-------------+-----------+----+\n",
            "|     review_id|star_rating|helpful_votes|total_votes|vine|\n",
            "+--------------+-----------+-------------+-----------+----+\n",
            "|R215C9BDXTDQOW|          4|            0|          0|   N|\n",
            "|R1DTPUV1J57YHA|          5|            0|          0|   N|\n",
            "| RFAZK5EWKJWOU|          5|            0|          0|   N|\n",
            "|R2XT8X0O0WS1AL|          5|            0|          0|   N|\n",
            "|R14GRNANKO2Y2J|          5|            0|          0|   N|\n",
            "|R2BLF9VYL24LCQ|          5|            1|          1|   N|\n",
            "|R1GI9UW5KJ671O|          5|            0|          0|   N|\n",
            "|R2H5CEJN863M86|          5|            0|          1|   N|\n",
            "| R5PPDHFOZ3SMU|          5|            0|          0|   N|\n",
            "| RE1L9IENKJJ7Y|          1|            0|          0|   N|\n",
            "|R3CZ0990QC2Z0H|          5|            0|          0|   N|\n",
            "|R3UMMD2IO29QSP|          5|            0|          0|   N|\n",
            "| R541LE5J3OJH2|          5|            0|          0|   N|\n",
            "|R10KD9FIE6Y1AS|          5|            0|          0|   N|\n",
            "|R1YT5YG0QG5DCG|          5|            0|          0|   N|\n",
            "|R207LXJWL40V1S|          4|            0|          0|   N|\n",
            "| RIDP0ZD7WT9DE|          5|            0|          0|   N|\n",
            "|R2XJSNZ9219U1Z|          5|            0|          0|   N|\n",
            "|R2M9F1FVVDOGFL|          5|            0|          0|   N|\n",
            "|R1QTOSE2BHU2LJ|          3|            1|          2|   N|\n",
            "+--------------+-----------+-------------+-----------+----+\n",
            "only showing top 20 rows\n",
            "\n"
          ]
        }
      ],
      "source": [
        "vine_table = home_imp_df.select(['review_id', 'star_rating', 'helpful_votes', 'total_votes', 'vine'])\n",
        "vine_table.show()"
      ]
    },
    {
      "cell_type": "code",
      "execution_count": null,
      "metadata": {
        "id": "6fBlmpP-JSzz"
      },
      "outputs": [],
      "source": [
        "mode = \"append\"\n",
        "jdbc_url=\"jdbc:postgresql://<endpoint>\"\n",
        "config = {\"user\":\"root\", \"password\": <password>, \"driver\":\"org.postgresql.Driver\"}"
      ]
    },
    {
      "cell_type": "code",
      "execution_count": null,
      "metadata": {
        "id": "EuykKA9nMXlo"
      },
      "outputs": [],
      "source": [
        "review_id_table.write.jdbc(url=jdbc_url, table='review_id_table', mode=mode, properties=config)"
      ]
    },
    {
      "cell_type": "code",
      "execution_count": null,
      "metadata": {
        "id": "Aue5NbM8MXrM"
      },
      "outputs": [],
      "source": [
        "products.write.jdbc(url=jdbc_url, table='products', mode=mode, properties=config)"
      ]
    },
    {
      "cell_type": "code",
      "execution_count": null,
      "metadata": {
        "id": "hrXlmUJ_MXvl"
      },
      "outputs": [],
      "source": [
        "customers.write.jdbc(url=jdbc_url, table='customers', mode=mode, properties=config)"
      ]
    },
    {
      "cell_type": "code",
      "execution_count": null,
      "metadata": {
        "colab": {
          "background_save": true
        },
        "id": "d4BmmdKqMXzt"
      },
      "outputs": [],
      "source": [
        "vine_table.write.jdbc(url=jdbc_url, table='vine_table', mode=mode, properties=config)"
      ]
    }
  ],
  "metadata": {
    "colab": {
      "collapsed_sections": [],
      "name": "homeImprovementReviews.ipynb",
      "provenance": [],
      "authorship_tag": "ABX9TyOsX0ldU3Xm3aTzhEunRN4H",
      "include_colab_link": true
    },
    "kernelspec": {
      "display_name": "Python 3",
      "name": "python3"
    },
    "language_info": {
      "name": "python"
    }
  },
  "nbformat": 4,
  "nbformat_minor": 0
}
